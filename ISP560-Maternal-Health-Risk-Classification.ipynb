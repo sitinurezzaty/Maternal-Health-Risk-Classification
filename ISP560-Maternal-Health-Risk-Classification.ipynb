{
 "cells": [
  {
   "cell_type": "markdown",
   "id": "1200d98b",
   "metadata": {},
   "source": [
    "## 1) Import all the crucial libraries"
   ]
  },
  {
   "cell_type": "code",
   "execution_count": 904,
   "id": "68180984",
   "metadata": {
    "scrolled": true
   },
   "outputs": [
    {
     "name": "stdout",
     "output_type": "stream",
     "text": [
      "2.4.1\n"
     ]
    }
   ],
   "source": [
    "import numpy as np\n",
    "import pandas as pd #read csv file\n",
    "\n",
    "from matplotlib import pyplot as plt #for plotting the graph\n",
    "import seaborn as sns #use for data visualization\n",
    "\n",
    "#use for build model\n",
    "import tensorflow as tf\n",
    "from tensorflow import keras\n",
    "from imblearn.under_sampling import RandomUnderSampler #for balancing data\n",
    "from sklearn.preprocessing import LabelEncoder #for one-hot encoding\n",
    "from sklearn.preprocessing import StandardScaler\n",
    "from sklearn.model_selection import train_test_split #for splitting the data\n",
    "\n",
    "from tensorflow.keras.models import Sequential\n",
    "from tensorflow.keras.layers import Dense, Activation \n",
    "\n",
    "print(tf.__version__)"
   ]
  },
  {
   "cell_type": "markdown",
   "id": "b7ad4dcb",
   "metadata": {},
   "source": [
    "## 2) Import dataset and explore the data<br>\n",
    "In this section, we explore the data and we also use graph for visualize the data for make us easier to understand about the data"
   ]
  },
  {
   "cell_type": "code",
   "execution_count": 905,
   "id": "777f999d",
   "metadata": {},
   "outputs": [],
   "source": [
    "maternal_health_data = pd.read_csv('Maternal-Health-Risk-Data-Set.csv')"
   ]
  },
  {
   "cell_type": "code",
   "execution_count": 906,
   "id": "bced6806",
   "metadata": {},
   "outputs": [
    {
     "data": {
      "text/html": [
       "<div>\n",
       "<style scoped>\n",
       "    .dataframe tbody tr th:only-of-type {\n",
       "        vertical-align: middle;\n",
       "    }\n",
       "\n",
       "    .dataframe tbody tr th {\n",
       "        vertical-align: top;\n",
       "    }\n",
       "\n",
       "    .dataframe thead th {\n",
       "        text-align: right;\n",
       "    }\n",
       "</style>\n",
       "<table border=\"1\" class=\"dataframe\">\n",
       "  <thead>\n",
       "    <tr style=\"text-align: right;\">\n",
       "      <th></th>\n",
       "      <th>Age</th>\n",
       "      <th>SystolicBP</th>\n",
       "      <th>DiastolicBP</th>\n",
       "      <th>BS</th>\n",
       "      <th>BodyTemp</th>\n",
       "      <th>HeartRate</th>\n",
       "      <th>RiskLevel</th>\n",
       "    </tr>\n",
       "  </thead>\n",
       "  <tbody>\n",
       "    <tr>\n",
       "      <th>0</th>\n",
       "      <td>25</td>\n",
       "      <td>130</td>\n",
       "      <td>80</td>\n",
       "      <td>15.0</td>\n",
       "      <td>98.0</td>\n",
       "      <td>86</td>\n",
       "      <td>high risk</td>\n",
       "    </tr>\n",
       "    <tr>\n",
       "      <th>1</th>\n",
       "      <td>35</td>\n",
       "      <td>140</td>\n",
       "      <td>90</td>\n",
       "      <td>13.0</td>\n",
       "      <td>98.0</td>\n",
       "      <td>70</td>\n",
       "      <td>high risk</td>\n",
       "    </tr>\n",
       "    <tr>\n",
       "      <th>2</th>\n",
       "      <td>29</td>\n",
       "      <td>90</td>\n",
       "      <td>70</td>\n",
       "      <td>8.0</td>\n",
       "      <td>100.0</td>\n",
       "      <td>80</td>\n",
       "      <td>high risk</td>\n",
       "    </tr>\n",
       "    <tr>\n",
       "      <th>3</th>\n",
       "      <td>30</td>\n",
       "      <td>140</td>\n",
       "      <td>85</td>\n",
       "      <td>7.0</td>\n",
       "      <td>98.0</td>\n",
       "      <td>70</td>\n",
       "      <td>high risk</td>\n",
       "    </tr>\n",
       "    <tr>\n",
       "      <th>4</th>\n",
       "      <td>35</td>\n",
       "      <td>120</td>\n",
       "      <td>60</td>\n",
       "      <td>6.1</td>\n",
       "      <td>98.0</td>\n",
       "      <td>76</td>\n",
       "      <td>low risk</td>\n",
       "    </tr>\n",
       "    <tr>\n",
       "      <th>...</th>\n",
       "      <td>...</td>\n",
       "      <td>...</td>\n",
       "      <td>...</td>\n",
       "      <td>...</td>\n",
       "      <td>...</td>\n",
       "      <td>...</td>\n",
       "      <td>...</td>\n",
       "    </tr>\n",
       "    <tr>\n",
       "      <th>1009</th>\n",
       "      <td>22</td>\n",
       "      <td>120</td>\n",
       "      <td>60</td>\n",
       "      <td>15.0</td>\n",
       "      <td>98.0</td>\n",
       "      <td>80</td>\n",
       "      <td>high risk</td>\n",
       "    </tr>\n",
       "    <tr>\n",
       "      <th>1010</th>\n",
       "      <td>55</td>\n",
       "      <td>120</td>\n",
       "      <td>90</td>\n",
       "      <td>18.0</td>\n",
       "      <td>98.0</td>\n",
       "      <td>60</td>\n",
       "      <td>high risk</td>\n",
       "    </tr>\n",
       "    <tr>\n",
       "      <th>1011</th>\n",
       "      <td>35</td>\n",
       "      <td>85</td>\n",
       "      <td>60</td>\n",
       "      <td>19.0</td>\n",
       "      <td>98.0</td>\n",
       "      <td>86</td>\n",
       "      <td>high risk</td>\n",
       "    </tr>\n",
       "    <tr>\n",
       "      <th>1012</th>\n",
       "      <td>43</td>\n",
       "      <td>120</td>\n",
       "      <td>90</td>\n",
       "      <td>18.0</td>\n",
       "      <td>98.0</td>\n",
       "      <td>70</td>\n",
       "      <td>high risk</td>\n",
       "    </tr>\n",
       "    <tr>\n",
       "      <th>1013</th>\n",
       "      <td>32</td>\n",
       "      <td>120</td>\n",
       "      <td>65</td>\n",
       "      <td>6.0</td>\n",
       "      <td>101.0</td>\n",
       "      <td>76</td>\n",
       "      <td>mid risk</td>\n",
       "    </tr>\n",
       "  </tbody>\n",
       "</table>\n",
       "<p>1014 rows × 7 columns</p>\n",
       "</div>"
      ],
      "text/plain": [
       "      Age  SystolicBP  DiastolicBP    BS  BodyTemp  HeartRate  RiskLevel\n",
       "0      25         130           80  15.0      98.0         86  high risk\n",
       "1      35         140           90  13.0      98.0         70  high risk\n",
       "2      29          90           70   8.0     100.0         80  high risk\n",
       "3      30         140           85   7.0      98.0         70  high risk\n",
       "4      35         120           60   6.1      98.0         76   low risk\n",
       "...   ...         ...          ...   ...       ...        ...        ...\n",
       "1009   22         120           60  15.0      98.0         80  high risk\n",
       "1010   55         120           90  18.0      98.0         60  high risk\n",
       "1011   35          85           60  19.0      98.0         86  high risk\n",
       "1012   43         120           90  18.0      98.0         70  high risk\n",
       "1013   32         120           65   6.0     101.0         76   mid risk\n",
       "\n",
       "[1014 rows x 7 columns]"
      ]
     },
     "execution_count": 906,
     "metadata": {},
     "output_type": "execute_result"
    }
   ],
   "source": [
    "maternal_health_data"
   ]
  },
  {
   "cell_type": "markdown",
   "id": "2d361b6e",
   "metadata": {},
   "source": [
    "## 2.1) Plot graph for RiskLevel attribute\n",
    "\n",
    "This is to know roughly about the value that have inside the class label."
   ]
  },
  {
   "cell_type": "code",
   "execution_count": 907,
   "id": "3346b7d5",
   "metadata": {
    "scrolled": true
   },
   "outputs": [
    {
     "name": "stderr",
     "output_type": "stream",
     "text": [
      "/home/ubuntu/anaconda3/envs/ISP560/lib/python3.7/site-packages/seaborn/_decorators.py:43: FutureWarning: Pass the following variable as a keyword arg: x. From version 0.12, the only valid positional argument will be `data`, and passing other arguments without an explicit keyword will result in an error or misinterpretation.\n",
      "  FutureWarning\n"
     ]
    },
    {
     "data": {
      "image/png": "[encoded data removed]",
      "text/plain": [
       "<Figure size 1296x576 with 1 Axes>"
      ]
     },
     "metadata": {
      "needs_background": "light"
     },
     "output_type": "display_data"
    }
   ],
   "source": [
    "sns.countplot(maternal_health_data['RiskLevel'], label=\"Count\")\n",
    "plt.show()"
   ]
  },
  {
   "cell_type": "markdown",
   "id": "120459ad",
   "metadata": {},
   "source": [
    "## 2.2) Assign data to feature label and class label <br>\n",
    "\n",
    "Moreover, we divide the input variable and output variable for make more easier for us to build model."
   ]
  },
  {
   "cell_type": "code",
   "execution_count": 908,
   "id": "4e9c90db",
   "metadata": {},
   "outputs": [],
   "source": [
    "# assign all attribute except RiskLevel(class label/target) to variable X\n",
    "# assign class label to a variable y\n",
    "\n",
    "X = maternal_health_data.drop('RiskLevel', axis=1) # 1-row, 0-col, drop attribute RiskLevel\n",
    "y = maternal_health_data['RiskLevel']"
   ]
  },
  {
   "cell_type": "code",
   "execution_count": 909,
   "id": "7a63e512",
   "metadata": {},
   "outputs": [
    {
     "name": "stdout",
     "output_type": "stream",
     "text": [
      "0       high risk\n",
      "1       high risk\n",
      "2       high risk\n",
      "3       high risk\n",
      "4        low risk\n",
      "          ...    \n",
      "1009    high risk\n",
      "1010    high risk\n",
      "1011    high risk\n",
      "1012    high risk\n",
      "1013     mid risk\n",
      "Name: RiskLevel, Length: 1014, dtype: object\n"
     ]
    }
   ],
   "source": [
    "print(y)"
   ]
  },
  {
   "cell_type": "code",
   "execution_count": 910,
   "id": "640ff511",
   "metadata": {},
   "outputs": [
    {
     "data": {
      "text/plain": [
       "low risk     406\n",
       "mid risk     336\n",
       "high risk    272\n",
       "Name: RiskLevel, dtype: int64"
      ]
     },
     "execution_count": 910,
     "metadata": {},
     "output_type": "execute_result"
    }
   ],
   "source": [
    "# get class distribution for each value of class label\n",
    "\n",
    "y.value_counts()"
   ]
  },
  {
   "cell_type": "code",
   "execution_count": 911,
   "id": "9ab29fac",
   "metadata": {
    "scrolled": true
   },
   "outputs": [
    {
     "data": {
      "text/plain": [
       "<AxesSubplot:ylabel='RiskLevel'>"
      ]
     },
     "execution_count": 911,
     "metadata": {},
     "output_type": "execute_result"
    },
    {
     "data": {
      "image/png": "[encoded data removed]",
      "text/plain": [
       "<Figure size 1296x576 with 1 Axes>"
      ]
     },
     "metadata": {},
     "output_type": "display_data"
    }
   ],
   "source": [
    "# show pie plot\n",
    "\n",
    "y.value_counts().plot.pie(autopct='%.2f')"
   ]
  },
  {
   "cell_type": "markdown",
   "id": "3633b8b6",
   "metadata": {},
   "source": [
    "## 3) Balancing the data"
   ]
  },
  {
   "cell_type": "markdown",
   "id": "3c00e836",
   "metadata": {},
   "source": [
    "## 3.1) Random undersampling\n",
    "\n",
    "1. Purpose: To resample data which to balance the data accordingly. \n",
    "2. Method: Under sampling which means majority class will follow the minority class label."
   ]
  },
  {
   "cell_type": "code",
   "execution_count": 912,
   "id": "9a499c1b",
   "metadata": {
    "scrolled": true
   },
   "outputs": [
    {
     "data": {
      "image/png": "[encoded data removed]",
      "text/plain": [
       "<Figure size 1296x576 with 1 Axes>"
      ]
     },
     "metadata": {},
     "output_type": "display_data"
    }
   ],
   "source": [
    "# keys - class label, values - desired values for each class label\n",
    "#sampling_strategy = {0: 272, 1: 272, 2: 272}\n",
    "\n",
    "sampling_strategy = \"not minority\"\n",
    "rus = RandomUnderSampler(sampling_strategy=sampling_strategy)\n",
    "X_res, y_res = rus.fit_resample(X, y)\n",
    "\n",
    "ax = y_res.value_counts().plot.pie(autopct='%.2f')\n",
    "_ = ax.set_title(\"Under-sampling\")"
   ]
  },
  {
   "cell_type": "code",
   "execution_count": 913,
   "id": "ef2d3a08",
   "metadata": {
    "scrolled": false
   },
   "outputs": [
    {
     "data": {
      "text/plain": [
       "high risk    272\n",
       "low risk     272\n",
       "mid risk     272\n",
       "Name: RiskLevel, dtype: int64"
      ]
     },
     "execution_count": 913,
     "metadata": {},
     "output_type": "execute_result"
    }
   ],
   "source": [
    "# New class distribution after resample\n",
    "y_res.value_counts()"
   ]
  },
  {
   "cell_type": "code",
   "execution_count": 914,
   "id": "dc32181c",
   "metadata": {},
   "outputs": [
    {
     "name": "stdout",
     "output_type": "stream",
     "text": [
      "0      high risk\n",
      "1      high risk\n",
      "2      high risk\n",
      "3      high risk\n",
      "4      high risk\n",
      "         ...    \n",
      "811     mid risk\n",
      "812     mid risk\n",
      "813     mid risk\n",
      "814     mid risk\n",
      "815     mid risk\n",
      "Name: RiskLevel, Length: 816, dtype: object\n"
     ]
    }
   ],
   "source": [
    "print(y_res)"
   ]
  },
  {
   "cell_type": "markdown",
   "id": "6cc09fea",
   "metadata": {},
   "source": [
    "## 4) Encode output variable"
   ]
  },
  {
   "cell_type": "markdown",
   "id": "5fb7c176",
   "metadata": {},
   "source": [
    "## 4.1) Encoding the categorical data\n",
    "\n",
    "we make this process by using one-hot encoding.<br>\n",
    "<b>1. [1 0 0] - Class high risk<b><br>\n",
    "<b>2. [0 1 0] - Class low risk<b><br>\n",
    "<b>3. [0 0 1] - Class mid risk<b>"
   ]
  },
  {
   "cell_type": "code",
   "execution_count": 915,
   "id": "3c2cca48",
   "metadata": {},
   "outputs": [],
   "source": [
    "# convert newly created y_res into  matrix with boolean for each class value\n",
    "# [1 0 0] - Class high risk, [0 1 0] - Class low risk, [0 0 1] - Class mid risk\n",
    "# 0 - High Risk\n",
    "# 1 - Low Risk\n",
    "# 2 - Mid Risk\n",
    "\n",
    "# change string to integer\n",
    "encoder = LabelEncoder()\n",
    "y_encoded = encoder.fit_transform(y_res)\n",
    "\n",
    "# change integer to matrix with boolean form\n",
    "y_res2 = tf.keras.utils.to_categorical(y_encoded)"
   ]
  },
  {
   "cell_type": "code",
   "execution_count": 916,
   "id": "d6c9598b",
   "metadata": {},
   "outputs": [
    {
     "name": "stdout",
     "output_type": "stream",
     "text": [
      "[[1. 0. 0.]\n",
      " [1. 0. 0.]\n",
      " [1. 0. 0.]\n",
      " ...\n",
      " [0. 0. 1.]\n",
      " [0. 0. 1.]\n",
      " [0. 0. 1.]]\n"
     ]
    }
   ],
   "source": [
    "print(y_res2)"
   ]
  },
  {
   "cell_type": "markdown",
   "id": "595f2ecf",
   "metadata": {},
   "source": [
    "## 5) Splitting the dataset"
   ]
  },
  {
   "cell_type": "code",
   "execution_count": 917,
   "id": "429394d2",
   "metadata": {},
   "outputs": [
    {
     "name": "stdout",
     "output_type": "stream",
     "text": [
      "X_train.shape: (652, 6)\n",
      "X_test.shape: (164, 6)\n",
      "y_train.shape: (652, 3)\n",
      "y_test.shape: (164, 3)\n"
     ]
    }
   ],
   "source": [
    "X_train, X_test, y_train, y_test = train_test_split(\n",
    "    X_res, y_res2, test_size=0.2, random_state=42\n",
    ")\n",
    "\n",
    "print(\"X_train.shape:\", X_train.shape)\n",
    "print(\"X_test.shape:\", X_test.shape)\n",
    "print(\"y_train.shape:\", y_train.shape)\n",
    "print(\"y_test.shape:\", y_test.shape)"
   ]
  },
  {
   "cell_type": "code",
   "execution_count": 918,
   "id": "3b855a44",
   "metadata": {},
   "outputs": [
    {
     "name": "stdout",
     "output_type": "stream",
     "text": [
      "[[1. 0. 0.]\n",
      " [0. 1. 0.]\n",
      " [0. 0. 1.]\n",
      " [1. 0. 0.]\n",
      " [0. 1. 0.]\n",
      " [0. 0. 1.]\n",
      " [1. 0. 0.]\n",
      " [0. 1. 0.]\n",
      " [0. 1. 0.]\n",
      " [0. 1. 0.]\n",
      " [1. 0. 0.]\n",
      " [0. 0. 1.]\n",
      " [0. 0. 1.]\n",
      " [0. 0. 1.]\n",
      " [1. 0. 0.]\n",
      " [0. 1. 0.]\n",
      " [0. 1. 0.]\n",
      " [1. 0. 0.]\n",
      " [0. 1. 0.]\n",
      " [0. 1. 0.]\n",
      " [1. 0. 0.]\n",
      " [1. 0. 0.]\n",
      " [1. 0. 0.]\n",
      " [0. 0. 1.]\n",
      " [1. 0. 0.]\n",
      " [1. 0. 0.]\n",
      " [0. 0. 1.]\n",
      " [1. 0. 0.]\n",
      " [1. 0. 0.]\n",
      " [1. 0. 0.]\n",
      " [0. 1. 0.]\n",
      " [1. 0. 0.]\n",
      " [0. 1. 0.]\n",
      " [0. 1. 0.]\n",
      " [0. 0. 1.]\n",
      " [1. 0. 0.]\n",
      " [1. 0. 0.]\n",
      " [0. 1. 0.]\n",
      " [1. 0. 0.]\n",
      " [0. 1. 0.]\n",
      " [1. 0. 0.]\n",
      " [0. 1. 0.]\n",
      " [0. 1. 0.]\n",
      " [1. 0. 0.]\n",
      " [1. 0. 0.]\n",
      " [1. 0. 0.]\n",
      " [0. 1. 0.]\n",
      " [0. 1. 0.]\n",
      " [0. 1. 0.]\n",
      " [0. 0. 1.]\n",
      " [0. 0. 1.]\n",
      " [0. 0. 1.]\n",
      " [0. 0. 1.]\n",
      " [0. 0. 1.]\n",
      " [0. 1. 0.]\n",
      " [0. 1. 0.]\n",
      " [0. 1. 0.]\n",
      " [1. 0. 0.]\n",
      " [0. 1. 0.]\n",
      " [0. 0. 1.]\n",
      " [0. 0. 1.]\n",
      " [0. 0. 1.]\n",
      " [1. 0. 0.]\n",
      " [0. 0. 1.]\n",
      " [1. 0. 0.]\n",
      " [1. 0. 0.]\n",
      " [0. 0. 1.]\n",
      " [1. 0. 0.]\n",
      " [1. 0. 0.]\n",
      " [1. 0. 0.]\n",
      " [0. 1. 0.]\n",
      " [0. 1. 0.]\n",
      " [1. 0. 0.]\n",
      " [0. 0. 1.]\n",
      " [1. 0. 0.]\n",
      " [1. 0. 0.]\n",
      " [0. 0. 1.]\n",
      " [0. 1. 0.]\n",
      " [0. 1. 0.]\n",
      " [0. 0. 1.]\n",
      " [1. 0. 0.]\n",
      " [0. 0. 1.]\n",
      " [0. 1. 0.]\n",
      " [1. 0. 0.]\n",
      " [1. 0. 0.]\n",
      " [0. 0. 1.]\n",
      " [0. 1. 0.]\n",
      " [1. 0. 0.]\n",
      " [0. 1. 0.]\n",
      " [0. 0. 1.]\n",
      " [0. 1. 0.]\n",
      " [0. 1. 0.]\n",
      " [0. 1. 0.]\n",
      " [1. 0. 0.]\n",
      " [0. 1. 0.]\n",
      " [0. 0. 1.]\n",
      " [0. 1. 0.]\n",
      " [0. 0. 1.]\n",
      " [0. 0. 1.]\n",
      " [1. 0. 0.]\n",
      " [0. 1. 0.]\n",
      " [1. 0. 0.]\n",
      " [0. 0. 1.]\n",
      " [0. 1. 0.]\n",
      " [0. 1. 0.]\n",
      " [1. 0. 0.]\n",
      " [1. 0. 0.]\n",
      " [0. 1. 0.]\n",
      " [1. 0. 0.]\n",
      " [0. 1. 0.]\n",
      " [0. 1. 0.]\n",
      " [0. 0. 1.]\n",
      " [1. 0. 0.]\n",
      " [0. 1. 0.]\n",
      " [0. 1. 0.]\n",
      " [0. 1. 0.]\n",
      " [1. 0. 0.]\n",
      " [1. 0. 0.]\n",
      " [0. 0. 1.]\n",
      " [1. 0. 0.]\n",
      " [0. 0. 1.]\n",
      " [0. 1. 0.]\n",
      " [1. 0. 0.]\n",
      " [0. 0. 1.]\n",
      " [0. 1. 0.]\n",
      " [0. 1. 0.]\n",
      " [1. 0. 0.]\n",
      " [0. 0. 1.]\n",
      " [0. 1. 0.]\n",
      " [1. 0. 0.]\n",
      " [0. 1. 0.]\n",
      " [0. 0. 1.]\n",
      " [0. 1. 0.]\n",
      " [0. 1. 0.]\n",
      " [1. 0. 0.]\n",
      " [0. 1. 0.]\n",
      " [0. 0. 1.]\n",
      " [0. 1. 0.]\n",
      " [0. 0. 1.]\n",
      " [0. 1. 0.]\n",
      " [0. 0. 1.]\n",
      " [0. 1. 0.]\n",
      " [0. 1. 0.]\n",
      " [0. 0. 1.]\n",
      " [0. 1. 0.]\n",
      " [0. 0. 1.]\n",
      " [1. 0. 0.]\n",
      " [0. 0. 1.]\n",
      " [1. 0. 0.]\n",
      " [0. 0. 1.]\n",
      " [0. 0. 1.]\n",
      " [0. 1. 0.]\n",
      " [0. 1. 0.]\n",
      " [1. 0. 0.]\n",
      " [0. 0. 1.]\n",
      " [0. 1. 0.]\n",
      " [0. 1. 0.]\n",
      " [0. 0. 1.]\n",
      " [0. 0. 1.]\n",
      " [0. 1. 0.]\n",
      " [0. 0. 1.]\n",
      " [0. 0. 1.]\n",
      " [0. 0. 1.]\n",
      " [0. 0. 1.]]\n"
     ]
    }
   ],
   "source": [
    "print(y_test)"
   ]
  },
  {
   "cell_type": "markdown",
   "id": "000b5007",
   "metadata": {},
   "source": [
    "## 6) Build the model"
   ]
  },
  {
   "cell_type": "code",
   "execution_count": 919,
   "id": "e78dc10e",
   "metadata": {},
   "outputs": [],
   "source": [
    "# build model follow https://www.youtube.com/watch?v=2Iy9-aep2X4\n",
    "#set seed\n",
    "tf.random.set_seed(42)\n",
    "\n",
    "model = tf.keras.Sequential([\n",
    "    tf.keras.layers.Dense(6, activation = 'relu'),\n",
    "    tf.keras.layers.Dense(4, activation = 'relu'),\n",
    "    tf.keras.layers.Dense(3, activation = 'softmax')\n",
    "])\n",
    "\n",
    "# compile model\n",
    "model.compile(\n",
    "    loss = 'categorical_crossentropy',\n",
    "    optimizer = tf.keras.optimizers.Adam(lr = 0.03),\n",
    "    metrics = [\n",
    "        tf.keras.metrics.BinaryAccuracy(name = 'accuracy')]\n",
    ")"
   ]
  },
  {
   "cell_type": "markdown",
   "id": "1ddf7669",
   "metadata": {},
   "source": [
    "## 6.1) Train the model"
   ]
  },
  {
   "cell_type": "code",
   "execution_count": 920,
   "id": "f9209ffd",
   "metadata": {},
   "outputs": [
    {
     "name": "stdout",
     "output_type": "stream",
     "text": [
      "Epoch 1/150\n",
      "6/6 [==============================] - 1s 90ms/step - loss: 3.5212 - accuracy: 0.5308 - val_loss: 1.6995 - val_accuracy: 0.5772\n",
      "Epoch 2/150\n",
      "6/6 [==============================] - 0s 29ms/step - loss: 1.4930 - accuracy: 0.5719 - val_loss: 1.1700 - val_accuracy: 0.6585\n",
      "Epoch 3/150\n",
      "6/6 [==============================] - 0s 21ms/step - loss: 1.2066 - accuracy: 0.6395 - val_loss: 1.0911 - val_accuracy: 0.6667\n",
      "Epoch 4/150\n",
      "6/6 [==============================] - 0s 33ms/step - loss: 1.1015 - accuracy: 0.6679 - val_loss: 1.1407 - val_accuracy: 0.6626\n",
      "Epoch 5/150\n",
      "6/6 [==============================] - 0s 22ms/step - loss: 1.1171 - accuracy: 0.6643 - val_loss: 1.0978 - val_accuracy: 0.6667\n",
      "Epoch 6/150\n",
      "6/6 [==============================] - 0s 34ms/step - loss: 1.1196 - accuracy: 0.6667 - val_loss: 1.0896 - val_accuracy: 0.6667\n",
      "Epoch 7/150\n",
      "6/6 [==============================] - 0s 20ms/step - loss: 1.1077 - accuracy: 0.6667 - val_loss: 1.0849 - val_accuracy: 0.6667\n",
      "Epoch 8/150\n",
      "6/6 [==============================] - 0s 32ms/step - loss: 1.1009 - accuracy: 0.6679 - val_loss: 1.0950 - val_accuracy: 0.6707\n",
      "Epoch 9/150\n",
      "6/6 [==============================] - 0s 33ms/step - loss: 1.0831 - accuracy: 0.6670 - val_loss: 1.0848 - val_accuracy: 0.6667\n",
      "Epoch 10/150\n",
      "6/6 [==============================] - 0s 30ms/step - loss: 1.0968 - accuracy: 0.6667 - val_loss: 1.0931 - val_accuracy: 0.6667\n",
      "Epoch 11/150\n",
      "6/6 [==============================] - 0s 30ms/step - loss: 1.1005 - accuracy: 0.6667 - val_loss: 1.0918 - val_accuracy: 0.6667\n",
      "Epoch 12/150\n",
      "6/6 [==============================] - 0s 35ms/step - loss: 1.0925 - accuracy: 0.6667 - val_loss: 1.0795 - val_accuracy: 0.6667\n",
      "Epoch 13/150\n",
      "6/6 [==============================] - 0s 29ms/step - loss: 1.0835 - accuracy: 0.6663 - val_loss: 1.0820 - val_accuracy: 0.6768\n",
      "Epoch 14/150\n",
      "6/6 [==============================] - 0s 33ms/step - loss: 1.0791 - accuracy: 0.6673 - val_loss: 1.0713 - val_accuracy: 0.6667\n",
      "Epoch 15/150\n",
      "6/6 [==============================] - 0s 28ms/step - loss: 1.0796 - accuracy: 0.6650 - val_loss: 1.0653 - val_accuracy: 0.6667\n",
      "Epoch 16/150\n",
      "6/6 [==============================] - 0s 31ms/step - loss: 1.0721 - accuracy: 0.6672 - val_loss: 1.0583 - val_accuracy: 0.6667\n",
      "Epoch 17/150\n",
      "6/6 [==============================] - 0s 31ms/step - loss: 1.0658 - accuracy: 0.6585 - val_loss: 1.0557 - val_accuracy: 0.6829\n",
      "Epoch 18/150\n",
      "6/6 [==============================] - 0s 28ms/step - loss: 1.0626 - accuracy: 0.6752 - val_loss: 1.0457 - val_accuracy: 0.6829\n",
      "Epoch 19/150\n",
      "6/6 [==============================] - 0s 28ms/step - loss: 1.0532 - accuracy: 0.6755 - val_loss: 1.0565 - val_accuracy: 0.6748\n",
      "Epoch 20/150\n",
      "6/6 [==============================] - 0s 32ms/step - loss: 1.0473 - accuracy: 0.6679 - val_loss: 1.0304 - val_accuracy: 0.6829\n",
      "Epoch 21/150\n",
      "6/6 [==============================] - 0s 30ms/step - loss: 1.0344 - accuracy: 0.6804 - val_loss: 1.0679 - val_accuracy: 0.6890\n",
      "Epoch 22/150\n",
      "6/6 [==============================] - 0s 28ms/step - loss: 1.0757 - accuracy: 0.6561 - val_loss: 1.0904 - val_accuracy: 0.6443\n",
      "Epoch 23/150\n",
      "6/6 [==============================] - 0s 29ms/step - loss: 1.1048 - accuracy: 0.6415 - val_loss: 1.1098 - val_accuracy: 0.6402\n",
      "Epoch 24/150\n",
      "6/6 [==============================] - 0s 30ms/step - loss: 1.0875 - accuracy: 0.6647 - val_loss: 1.0584 - val_accuracy: 0.6687\n",
      "Epoch 25/150\n",
      "6/6 [==============================] - 0s 28ms/step - loss: 1.0589 - accuracy: 0.6744 - val_loss: 1.0319 - val_accuracy: 0.6667\n",
      "Epoch 26/150\n",
      "6/6 [==============================] - 0s 30ms/step - loss: 1.0328 - accuracy: 0.6673 - val_loss: 1.0230 - val_accuracy: 0.6850\n",
      "Epoch 27/150\n",
      "6/6 [==============================] - 0s 33ms/step - loss: 1.0254 - accuracy: 0.6803 - val_loss: 1.0183 - val_accuracy: 0.6850\n",
      "Epoch 28/150\n",
      "6/6 [==============================] - 0s 31ms/step - loss: 1.0214 - accuracy: 0.6949 - val_loss: 1.0006 - val_accuracy: 0.7073\n",
      "Epoch 29/150\n",
      "6/6 [==============================] - 0s 29ms/step - loss: 1.0118 - accuracy: 0.6964 - val_loss: 0.9951 - val_accuracy: 0.7093\n",
      "Epoch 30/150\n",
      "6/6 [==============================] - 0s 31ms/step - loss: 1.0124 - accuracy: 0.7015 - val_loss: 1.0144 - val_accuracy: 0.6931\n",
      "Epoch 31/150\n",
      "6/6 [==============================] - 0s 32ms/step - loss: 1.0098 - accuracy: 0.6958 - val_loss: 1.0236 - val_accuracy: 0.6768\n",
      "Epoch 32/150\n",
      "6/6 [==============================] - 0s 27ms/step - loss: 1.0041 - accuracy: 0.7051 - val_loss: 1.0097 - val_accuracy: 0.6890\n",
      "Epoch 33/150\n",
      "6/6 [==============================] - 0s 30ms/step - loss: 1.0085 - accuracy: 0.7124 - val_loss: 0.9784 - val_accuracy: 0.6992\n",
      "Epoch 34/150\n",
      "6/6 [==============================] - 0s 24ms/step - loss: 0.9850 - accuracy: 0.7079 - val_loss: 0.9752 - val_accuracy: 0.7093\n",
      "Epoch 35/150\n",
      "6/6 [==============================] - 0s 36ms/step - loss: 1.0010 - accuracy: 0.7101 - val_loss: 0.9856 - val_accuracy: 0.6931\n",
      "Epoch 36/150\n",
      "6/6 [==============================] - 0s 33ms/step - loss: 0.9561 - accuracy: 0.7260 - val_loss: 0.9733 - val_accuracy: 0.7033\n",
      "Epoch 37/150\n",
      "6/6 [==============================] - 0s 21ms/step - loss: 0.9725 - accuracy: 0.7110 - val_loss: 1.0049 - val_accuracy: 0.6809\n",
      "Epoch 38/150\n",
      "6/6 [==============================] - 0s 26ms/step - loss: 1.0236 - accuracy: 0.6914 - val_loss: 0.9744 - val_accuracy: 0.7053\n",
      "Epoch 39/150\n",
      "6/6 [==============================] - 0s 24ms/step - loss: 1.0140 - accuracy: 0.6940 - val_loss: 1.0100 - val_accuracy: 0.6829\n",
      "Epoch 40/150\n",
      "6/6 [==============================] - 0s 24ms/step - loss: 0.9855 - accuracy: 0.7075 - val_loss: 0.9471 - val_accuracy: 0.7134\n",
      "Epoch 41/150\n",
      "6/6 [==============================] - 0s 28ms/step - loss: 0.9542 - accuracy: 0.7188 - val_loss: 0.9617 - val_accuracy: 0.6850\n",
      "Epoch 42/150\n",
      "6/6 [==============================] - 0s 22ms/step - loss: 0.9702 - accuracy: 0.7084 - val_loss: 0.9359 - val_accuracy: 0.7215\n",
      "Epoch 43/150\n",
      "6/6 [==============================] - 0s 33ms/step - loss: 0.9504 - accuracy: 0.7213 - val_loss: 0.9488 - val_accuracy: 0.7012\n",
      "Epoch 44/150\n",
      "6/6 [==============================] - 0s 25ms/step - loss: 1.0062 - accuracy: 0.7033 - val_loss: 0.9631 - val_accuracy: 0.7195\n",
      "Epoch 45/150\n",
      "6/6 [==============================] - 0s 24ms/step - loss: 0.9588 - accuracy: 0.7194 - val_loss: 1.0024 - val_accuracy: 0.6890\n",
      "Epoch 46/150\n",
      "6/6 [==============================] - 0s 24ms/step - loss: 1.0046 - accuracy: 0.6920 - val_loss: 1.0247 - val_accuracy: 0.6646\n",
      "Epoch 47/150\n",
      "6/6 [==============================] - 0s 27ms/step - loss: 1.0101 - accuracy: 0.6835 - val_loss: 0.9958 - val_accuracy: 0.6809\n",
      "Epoch 48/150\n",
      "6/6 [==============================] - 0s 32ms/step - loss: 0.9901 - accuracy: 0.6902 - val_loss: 1.0165 - val_accuracy: 0.6748\n",
      "Epoch 49/150\n",
      "6/6 [==============================] - 0s 26ms/step - loss: 1.0684 - accuracy: 0.6640 - val_loss: 0.9993 - val_accuracy: 0.6646\n",
      "Epoch 50/150\n",
      "6/6 [==============================] - 0s 21ms/step - loss: 1.0505 - accuracy: 0.6647 - val_loss: 1.0361 - val_accuracy: 0.6870\n",
      "Epoch 51/150\n",
      "6/6 [==============================] - 0s 30ms/step - loss: 1.0445 - accuracy: 0.6887 - val_loss: 0.9814 - val_accuracy: 0.6789\n",
      "Epoch 52/150\n",
      "6/6 [==============================] - 0s 27ms/step - loss: 0.9689 - accuracy: 0.6956 - val_loss: 0.9309 - val_accuracy: 0.7134\n",
      "Epoch 53/150\n",
      "6/6 [==============================] - 0s 19ms/step - loss: 0.9561 - accuracy: 0.6968 - val_loss: 0.9856 - val_accuracy: 0.6890\n",
      "Epoch 54/150\n",
      "6/6 [==============================] - 0s 22ms/step - loss: 0.9925 - accuracy: 0.7044 - val_loss: 0.9215 - val_accuracy: 0.7134\n",
      "Epoch 55/150\n",
      "6/6 [==============================] - 0s 27ms/step - loss: 0.9930 - accuracy: 0.7085 - val_loss: 0.9606 - val_accuracy: 0.6951\n",
      "Epoch 56/150\n",
      "6/6 [==============================] - 0s 28ms/step - loss: 0.9396 - accuracy: 0.7042 - val_loss: 0.9434 - val_accuracy: 0.7195\n",
      "Epoch 57/150\n",
      "6/6 [==============================] - 0s 27ms/step - loss: 0.9360 - accuracy: 0.6997 - val_loss: 0.9140 - val_accuracy: 0.7276\n",
      "Epoch 58/150\n",
      "6/6 [==============================] - 0s 21ms/step - loss: 0.9085 - accuracy: 0.7351 - val_loss: 0.9353 - val_accuracy: 0.7073\n",
      "Epoch 59/150\n",
      "6/6 [==============================] - 0s 27ms/step - loss: 0.9689 - accuracy: 0.7072 - val_loss: 0.9003 - val_accuracy: 0.7236\n",
      "Epoch 60/150\n",
      "6/6 [==============================] - 0s 32ms/step - loss: 0.9326 - accuracy: 0.7187 - val_loss: 0.8856 - val_accuracy: 0.7154\n",
      "Epoch 61/150\n",
      "6/6 [==============================] - 0s 32ms/step - loss: 0.9038 - accuracy: 0.7265 - val_loss: 0.8902 - val_accuracy: 0.7276\n",
      "Epoch 62/150\n",
      "6/6 [==============================] - 0s 27ms/step - loss: 0.9245 - accuracy: 0.7358 - val_loss: 0.8778 - val_accuracy: 0.7358\n",
      "Epoch 63/150\n",
      "6/6 [==============================] - 0s 27ms/step - loss: 0.8863 - accuracy: 0.7503 - val_loss: 0.8814 - val_accuracy: 0.7073\n",
      "Epoch 64/150\n",
      "6/6 [==============================] - 0s 27ms/step - loss: 0.9068 - accuracy: 0.7343 - val_loss: 0.9129 - val_accuracy: 0.7033\n",
      "Epoch 65/150\n",
      "6/6 [==============================] - 0s 26ms/step - loss: 0.9200 - accuracy: 0.7214 - val_loss: 0.9148 - val_accuracy: 0.7215\n",
      "Epoch 66/150\n",
      "6/6 [==============================] - 0s 31ms/step - loss: 0.9128 - accuracy: 0.7056 - val_loss: 0.8634 - val_accuracy: 0.7297\n",
      "Epoch 67/150\n",
      "6/6 [==============================] - 0s 23ms/step - loss: 0.8901 - accuracy: 0.7139 - val_loss: 0.8759 - val_accuracy: 0.7276\n",
      "Epoch 68/150\n",
      "6/6 [==============================] - 0s 22ms/step - loss: 0.8789 - accuracy: 0.7240 - val_loss: 0.9258 - val_accuracy: 0.7215\n",
      "Epoch 69/150\n",
      "6/6 [==============================] - 0s 28ms/step - loss: 0.9157 - accuracy: 0.7225 - val_loss: 0.9254 - val_accuracy: 0.7256\n",
      "Epoch 70/150\n",
      "6/6 [==============================] - 0s 25ms/step - loss: 0.9218 - accuracy: 0.7047 - val_loss: 0.8475 - val_accuracy: 0.7439\n",
      "Epoch 71/150\n",
      "6/6 [==============================] - 0s 33ms/step - loss: 0.8918 - accuracy: 0.7179 - val_loss: 0.8831 - val_accuracy: 0.7154\n",
      "Epoch 72/150\n",
      "6/6 [==============================] - 0s 24ms/step - loss: 0.8779 - accuracy: 0.7160 - val_loss: 1.1402 - val_accuracy: 0.6220\n",
      "Epoch 73/150\n",
      "6/6 [==============================] - 0s 22ms/step - loss: 1.0248 - accuracy: 0.6802 - val_loss: 0.8793 - val_accuracy: 0.7459\n",
      "Epoch 74/150\n",
      "6/6 [==============================] - 0s 30ms/step - loss: 0.9385 - accuracy: 0.7212 - val_loss: 0.9641 - val_accuracy: 0.6545\n",
      "Epoch 75/150\n",
      "6/6 [==============================] - 0s 18ms/step - loss: 0.9652 - accuracy: 0.6827 - val_loss: 0.9497 - val_accuracy: 0.7256\n",
      "Epoch 76/150\n",
      "6/6 [==============================] - 0s 28ms/step - loss: 0.9686 - accuracy: 0.7050 - val_loss: 0.8947 - val_accuracy: 0.7195\n",
      "Epoch 77/150\n",
      "6/6 [==============================] - 0s 19ms/step - loss: 0.9364 - accuracy: 0.7228 - val_loss: 0.9112 - val_accuracy: 0.6951\n",
      "Epoch 78/150\n",
      "6/6 [==============================] - 0s 28ms/step - loss: 0.9242 - accuracy: 0.7066 - val_loss: 0.9822 - val_accuracy: 0.7256\n",
      "Epoch 79/150\n",
      "6/6 [==============================] - 0s 24ms/step - loss: 0.9227 - accuracy: 0.7321 - val_loss: 0.9360 - val_accuracy: 0.7012\n",
      "Epoch 80/150\n",
      "6/6 [==============================] - 0s 31ms/step - loss: 0.9671 - accuracy: 0.7022 - val_loss: 0.8700 - val_accuracy: 0.7297\n",
      "Epoch 81/150\n",
      "6/6 [==============================] - 0s 31ms/step - loss: 0.9008 - accuracy: 0.7035 - val_loss: 0.9467 - val_accuracy: 0.7215\n",
      "Epoch 82/150\n",
      "6/6 [==============================] - 0s 42ms/step - loss: 0.9296 - accuracy: 0.7181 - val_loss: 0.9015 - val_accuracy: 0.7215\n",
      "Epoch 83/150\n",
      "6/6 [==============================] - 0s 29ms/step - loss: 0.9105 - accuracy: 0.7165 - val_loss: 0.8884 - val_accuracy: 0.7134\n",
      "Epoch 84/150\n",
      "6/6 [==============================] - 0s 25ms/step - loss: 0.8829 - accuracy: 0.7206 - val_loss: 0.8921 - val_accuracy: 0.7337\n",
      "Epoch 85/150\n",
      "6/6 [==============================] - 0s 26ms/step - loss: 0.8968 - accuracy: 0.7205 - val_loss: 0.8486 - val_accuracy: 0.7337\n",
      "Epoch 86/150\n",
      "6/6 [==============================] - 0s 28ms/step - loss: 0.8650 - accuracy: 0.7263 - val_loss: 0.9789 - val_accuracy: 0.6890\n",
      "Epoch 87/150\n",
      "6/6 [==============================] - 0s 27ms/step - loss: 0.9690 - accuracy: 0.7170 - val_loss: 0.8848 - val_accuracy: 0.7358\n",
      "Epoch 88/150\n",
      "6/6 [==============================] - 0s 28ms/step - loss: 0.8919 - accuracy: 0.7175 - val_loss: 1.0094 - val_accuracy: 0.6829\n",
      "Epoch 89/150\n",
      "6/6 [==============================] - 0s 27ms/step - loss: 1.0141 - accuracy: 0.6799 - val_loss: 0.9433 - val_accuracy: 0.6931\n",
      "Epoch 90/150\n",
      "6/6 [==============================] - 0s 28ms/step - loss: 0.9514 - accuracy: 0.6835 - val_loss: 0.8675 - val_accuracy: 0.7378\n",
      "Epoch 91/150\n",
      "6/6 [==============================] - 0s 18ms/step - loss: 0.9289 - accuracy: 0.7046 - val_loss: 1.0077 - val_accuracy: 0.6768\n",
      "Epoch 92/150\n",
      "6/6 [==============================] - 0s 31ms/step - loss: 1.0182 - accuracy: 0.6779 - val_loss: 0.9970 - val_accuracy: 0.6545\n",
      "Epoch 93/150\n",
      "6/6 [==============================] - 0s 33ms/step - loss: 1.0436 - accuracy: 0.6759 - val_loss: 0.9536 - val_accuracy: 0.7276\n",
      "Epoch 94/150\n",
      "6/6 [==============================] - 0s 52ms/step - loss: 0.9416 - accuracy: 0.7289 - val_loss: 0.9144 - val_accuracy: 0.7175\n",
      "Epoch 95/150\n",
      "6/6 [==============================] - 1s 113ms/step - loss: 0.9424 - accuracy: 0.6941 - val_loss: 0.9365 - val_accuracy: 0.7378\n",
      "Epoch 96/150\n",
      "6/6 [==============================] - 0s 59ms/step - loss: 0.9342 - accuracy: 0.7263 - val_loss: 0.9067 - val_accuracy: 0.7195\n",
      "Epoch 97/150\n",
      "6/6 [==============================] - 0s 90ms/step - loss: 0.9260 - accuracy: 0.7040 - val_loss: 0.9380 - val_accuracy: 0.7297\n",
      "Epoch 98/150\n",
      "6/6 [==============================] - 1s 61ms/step - loss: 0.9340 - accuracy: 0.7169 - val_loss: 0.8945 - val_accuracy: 0.7215\n",
      "Epoch 99/150\n",
      "6/6 [==============================] - 0s 19ms/step - loss: 0.8925 - accuracy: 0.7230 - val_loss: 0.9015 - val_accuracy: 0.7297\n",
      "Epoch 100/150\n",
      "6/6 [==============================] - 0s 22ms/step - loss: 0.8972 - accuracy: 0.7220 - val_loss: 0.8903 - val_accuracy: 0.7276\n",
      "Epoch 101/150\n",
      "6/6 [==============================] - 0s 38ms/step - loss: 0.8962 - accuracy: 0.7263 - val_loss: 0.8874 - val_accuracy: 0.7297\n",
      "Epoch 102/150\n",
      "6/6 [==============================] - 0s 57ms/step - loss: 0.8979 - accuracy: 0.7192 - val_loss: 0.9160 - val_accuracy: 0.7398\n",
      "Epoch 103/150\n",
      "6/6 [==============================] - 0s 53ms/step - loss: 0.8898 - accuracy: 0.7052 - val_loss: 0.8899 - val_accuracy: 0.7337\n",
      "Epoch 104/150\n",
      "6/6 [==============================] - 0s 80ms/step - loss: 0.8906 - accuracy: 0.7272 - val_loss: 0.8845 - val_accuracy: 0.7175\n",
      "Epoch 105/150\n",
      "6/6 [==============================] - 0s 37ms/step - loss: 0.8974 - accuracy: 0.7144 - val_loss: 0.8998 - val_accuracy: 0.6972\n",
      "Epoch 106/150\n",
      "6/6 [==============================] - 0s 39ms/step - loss: 0.8866 - accuracy: 0.6996 - val_loss: 1.0459 - val_accuracy: 0.6748\n",
      "Epoch 107/150\n",
      "6/6 [==============================] - 0s 32ms/step - loss: 1.0034 - accuracy: 0.6896 - val_loss: 0.9400 - val_accuracy: 0.7154\n",
      "Epoch 108/150\n",
      "6/6 [==============================] - 0s 27ms/step - loss: 0.9148 - accuracy: 0.7093 - val_loss: 0.9718 - val_accuracy: 0.7012\n",
      "Epoch 109/150\n",
      "6/6 [==============================] - 0s 28ms/step - loss: 0.9189 - accuracy: 0.7092 - val_loss: 0.8712 - val_accuracy: 0.7236\n",
      "Epoch 110/150\n",
      "6/6 [==============================] - 0s 28ms/step - loss: 0.9516 - accuracy: 0.7183 - val_loss: 0.8786 - val_accuracy: 0.7195\n",
      "Epoch 111/150\n",
      "6/6 [==============================] - 0s 29ms/step - loss: 0.9474 - accuracy: 0.6946 - val_loss: 0.8909 - val_accuracy: 0.7215\n",
      "Epoch 112/150\n",
      "6/6 [==============================] - 0s 31ms/step - loss: 0.8852 - accuracy: 0.7245 - val_loss: 0.8798 - val_accuracy: 0.7195\n",
      "Epoch 113/150\n",
      "6/6 [==============================] - 0s 27ms/step - loss: 0.8902 - accuracy: 0.7180 - val_loss: 0.8745 - val_accuracy: 0.7337\n",
      "Epoch 114/150\n",
      "6/6 [==============================] - 0s 22ms/step - loss: 0.8695 - accuracy: 0.7357 - val_loss: 0.8753 - val_accuracy: 0.7236\n",
      "Epoch 115/150\n",
      "6/6 [==============================] - 0s 23ms/step - loss: 0.8950 - accuracy: 0.7226 - val_loss: 0.9108 - val_accuracy: 0.7358\n",
      "Epoch 116/150\n",
      "6/6 [==============================] - 0s 26ms/step - loss: 0.8834 - accuracy: 0.7216 - val_loss: 0.8687 - val_accuracy: 0.7276\n",
      "Epoch 117/150\n",
      "6/6 [==============================] - 0s 27ms/step - loss: 0.8912 - accuracy: 0.7319 - val_loss: 0.8823 - val_accuracy: 0.7093\n",
      "Epoch 118/150\n",
      "6/6 [==============================] - 0s 22ms/step - loss: 0.9094 - accuracy: 0.7079 - val_loss: 0.9557 - val_accuracy: 0.7236\n",
      "Epoch 119/150\n",
      "6/6 [==============================] - 0s 40ms/step - loss: 0.9214 - accuracy: 0.7075 - val_loss: 0.8767 - val_accuracy: 0.7317\n",
      "Epoch 120/150\n",
      "6/6 [==============================] - 0s 32ms/step - loss: 0.8819 - accuracy: 0.7225 - val_loss: 0.9079 - val_accuracy: 0.7398\n",
      "Epoch 121/150\n",
      "6/6 [==============================] - 0s 28ms/step - loss: 0.8908 - accuracy: 0.7301 - val_loss: 0.8819 - val_accuracy: 0.7215\n",
      "Epoch 122/150\n",
      "6/6 [==============================] - 0s 37ms/step - loss: 0.8988 - accuracy: 0.7090 - val_loss: 0.9267 - val_accuracy: 0.7337\n",
      "Epoch 123/150\n",
      "6/6 [==============================] - 0s 32ms/step - loss: 0.8868 - accuracy: 0.7293 - val_loss: 0.9073 - val_accuracy: 0.7134\n",
      "Epoch 124/150\n",
      "6/6 [==============================] - 0s 28ms/step - loss: 0.8985 - accuracy: 0.7209 - val_loss: 0.9304 - val_accuracy: 0.7053\n",
      "Epoch 125/150\n",
      "6/6 [==============================] - 0s 32ms/step - loss: 0.8869 - accuracy: 0.7153 - val_loss: 0.9056 - val_accuracy: 0.7154\n",
      "Epoch 126/150\n",
      "6/6 [==============================] - 0s 29ms/step - loss: 0.9557 - accuracy: 0.7072 - val_loss: 0.9206 - val_accuracy: 0.7256\n",
      "Epoch 127/150\n",
      "6/6 [==============================] - 0s 28ms/step - loss: 0.9134 - accuracy: 0.7042 - val_loss: 0.9010 - val_accuracy: 0.6789\n",
      "Epoch 128/150\n",
      "6/6 [==============================] - 0s 28ms/step - loss: 0.8811 - accuracy: 0.7148 - val_loss: 0.8627 - val_accuracy: 0.7236\n",
      "Epoch 129/150\n",
      "6/6 [==============================] - 0s 28ms/step - loss: 0.8905 - accuracy: 0.7105 - val_loss: 0.8846 - val_accuracy: 0.7317\n",
      "Epoch 130/150\n",
      "6/6 [==============================] - 0s 27ms/step - loss: 0.8671 - accuracy: 0.7200 - val_loss: 0.8928 - val_accuracy: 0.7398\n",
      "Epoch 131/150\n",
      "6/6 [==============================] - 0s 32ms/step - loss: 0.8759 - accuracy: 0.7306 - val_loss: 0.8639 - val_accuracy: 0.7256\n",
      "Epoch 132/150\n",
      "6/6 [==============================] - 0s 27ms/step - loss: 0.8848 - accuracy: 0.7169 - val_loss: 0.8788 - val_accuracy: 0.7358\n",
      "Epoch 133/150\n",
      "6/6 [==============================] - 0s 34ms/step - loss: 0.8657 - accuracy: 0.7389 - val_loss: 0.8875 - val_accuracy: 0.7358\n",
      "Epoch 134/150\n",
      "6/6 [==============================] - 0s 29ms/step - loss: 0.9083 - accuracy: 0.7250 - val_loss: 0.8895 - val_accuracy: 0.7317\n",
      "Epoch 135/150\n",
      "6/6 [==============================] - 0s 30ms/step - loss: 0.8982 - accuracy: 0.7160 - val_loss: 0.8833 - val_accuracy: 0.7419\n",
      "Epoch 136/150\n",
      "6/6 [==============================] - 0s 26ms/step - loss: 0.8664 - accuracy: 0.7285 - val_loss: 0.8922 - val_accuracy: 0.7398\n",
      "Epoch 137/150\n",
      "6/6 [==============================] - 0s 28ms/step - loss: 0.8964 - accuracy: 0.7289 - val_loss: 0.9416 - val_accuracy: 0.7175\n",
      "Epoch 138/150\n",
      "6/6 [==============================] - 0s 28ms/step - loss: 0.9901 - accuracy: 0.6751 - val_loss: 0.9979 - val_accuracy: 0.7012\n",
      "Epoch 139/150\n",
      "6/6 [==============================] - 0s 28ms/step - loss: 0.9240 - accuracy: 0.7193 - val_loss: 0.8707 - val_accuracy: 0.7317\n",
      "Epoch 140/150\n",
      "6/6 [==============================] - 0s 29ms/step - loss: 0.8800 - accuracy: 0.7230 - val_loss: 0.8962 - val_accuracy: 0.7337\n",
      "Epoch 141/150\n",
      "6/6 [==============================] - 0s 32ms/step - loss: 0.8829 - accuracy: 0.7236 - val_loss: 0.8823 - val_accuracy: 0.7256\n",
      "Epoch 142/150\n",
      "6/6 [==============================] - 0s 34ms/step - loss: 0.8919 - accuracy: 0.7133 - val_loss: 0.8819 - val_accuracy: 0.7236\n",
      "Epoch 143/150\n",
      "6/6 [==============================] - 0s 31ms/step - loss: 0.8818 - accuracy: 0.7191 - val_loss: 0.8615 - val_accuracy: 0.7317\n",
      "Epoch 144/150\n",
      "6/6 [==============================] - 0s 33ms/step - loss: 0.8781 - accuracy: 0.7132 - val_loss: 0.9005 - val_accuracy: 0.7358\n",
      "Epoch 145/150\n",
      "6/6 [==============================] - 0s 30ms/step - loss: 0.8829 - accuracy: 0.7302 - val_loss: 0.8844 - val_accuracy: 0.7215\n",
      "Epoch 146/150\n",
      "6/6 [==============================] - 0s 32ms/step - loss: 0.8875 - accuracy: 0.7136 - val_loss: 0.8645 - val_accuracy: 0.7358\n",
      "Epoch 147/150\n",
      "6/6 [==============================] - 0s 32ms/step - loss: 0.8889 - accuracy: 0.7076 - val_loss: 0.9011 - val_accuracy: 0.7378\n",
      "Epoch 148/150\n",
      "6/6 [==============================] - 0s 33ms/step - loss: 0.9007 - accuracy: 0.7121 - val_loss: 0.8898 - val_accuracy: 0.6951\n",
      "Epoch 149/150\n",
      "6/6 [==============================] - 0s 29ms/step - loss: 0.9028 - accuracy: 0.7125 - val_loss: 0.8621 - val_accuracy: 0.7297\n",
      "Epoch 150/150\n",
      "6/6 [==============================] - 0s 36ms/step - loss: 0.8654 - accuracy: 0.7285 - val_loss: 0.8718 - val_accuracy: 0.7256\n"
     ]
    }
   ],
   "source": [
    "history = model.fit(X_train, y_train, batch_size=128, epochs=150, validation_data=(X_test,y_test), verbose = 1)"
   ]
  },
  {
   "cell_type": "code",
   "execution_count": 921,
   "id": "71af4878",
   "metadata": {},
   "outputs": [
    {
     "name": "stdout",
     "output_type": "stream",
     "text": [
      "Model: \"sequential_49\"\n",
      "_________________________________________________________________\n",
      "Layer (type)                 Output Shape              Param #   \n",
      "=================================================================\n",
      "dense_149 (Dense)            (None, 6)                 42        \n",
      "_________________________________________________________________\n",
      "dense_150 (Dense)            (None, 4)                 28        \n",
      "_________________________________________________________________\n",
      "dense_151 (Dense)            (None, 3)                 15        \n",
      "=================================================================\n",
      "Total params: 85\n",
      "Trainable params: 85\n",
      "Non-trainable params: 0\n",
      "_________________________________________________________________\n"
     ]
    }
   ],
   "source": [
    "model.summary()"
   ]
  },
  {
   "cell_type": "code",
   "execution_count": 922,
   "id": "0ac01d9c",
   "metadata": {},
   "outputs": [
    {
     "name": "stdout",
     "output_type": "stream",
     "text": [
      "dict_keys(['loss', 'accuracy', 'val_loss', 'val_accuracy'])\n"
     ]
    }
   ],
   "source": [
    "#list all data in history\n",
    "print(history.history.keys())"
   ]
  },
  {
   "cell_type": "markdown",
   "id": "9f685950",
   "metadata": {},
   "source": [
    "## 6.2) Plotting the result of model"
   ]
  },
  {
   "cell_type": "code",
   "execution_count": 923,
   "id": "7f92c0c1",
   "metadata": {},
   "outputs": [
    {
     "data": {
      "image/png": "[encoded data removed]",
      "text/plain": [
       "<Figure size 1296x576 with 1 Axes>"
      ]
     },
     "metadata": {
      "needs_background": "light"
     },
     "output_type": "display_data"
    }
   ],
   "source": [
    "plt.plot(history.history['accuracy'])\n",
    "plt.plot(history.history['val_accuracy'])\n",
    "plt.title('model accuracy')\n",
    "plt.ylabel('accuracy')\n",
    "plt.xlabel('epoch')\n",
    "plt.legend(['train', 'test'], loc='upper right')\n",
    "plt.show()"
   ]
  },
  {
   "cell_type": "code",
   "execution_count": 924,
   "id": "f804de2f",
   "metadata": {},
   "outputs": [
    {
     "data": {
      "image/png": "[encoded data removed]",
      "text/plain": [
       "<Figure size 1296x576 with 1 Axes>"
      ]
     },
     "metadata": {
      "needs_background": "light"
     },
     "output_type": "display_data"
    }
   ],
   "source": [
    "plt.plot(history.history['loss'])\n",
    "plt.plot(history.history['val_loss'])\n",
    "plt.title('model loss')\n",
    "plt.ylabel('loss')\n",
    "plt.xlabel('epoch')\n",
    "plt.legend(['train', 'test'], loc='upper right')\n",
    "plt.show()"
   ]
  },
  {
   "cell_type": "code",
   "execution_count": 925,
   "id": "15b36bad",
   "metadata": {},
   "outputs": [
    {
     "name": "stdout",
     "output_type": "stream",
     "text": [
      "6/6 [==============================] - 0s 3ms/step - loss: 0.8718 - accuracy: 0.7256\n"
     ]
    }
   ],
   "source": [
    "#to evaluate loss and accuracy\n",
    "accuracy_test = model.evaluate(X_test, y_test)"
   ]
  },
  {
   "cell_type": "markdown",
   "id": "ec902dde",
   "metadata": {},
   "source": [
    "## 6.3) Model predict"
   ]
  },
  {
   "cell_type": "code",
   "execution_count": 926,
   "id": "76b2d0dd",
   "metadata": {},
   "outputs": [],
   "source": [
    "predictions = model.predict(X_test)"
   ]
  },
  {
   "cell_type": "code",
   "execution_count": 927,
   "id": "6e990735",
   "metadata": {},
   "outputs": [
    {
     "data": {
      "text/plain": [
       "array([[0.84237313, 0.04319789, 0.11442891],\n",
       "       [0.13434981, 0.39976814, 0.465882  ],\n",
       "       [0.11778173, 0.41491243, 0.4673059 ],\n",
       "       [0.84237313, 0.04319789, 0.11442891],\n",
       "       [0.14469466, 0.3908341 , 0.4644713 ],\n",
       "       [0.10344382, 0.42903596, 0.46752018],\n",
       "       [0.11309254, 0.41941583, 0.4674917 ],\n",
       "       [0.08502973, 0.4490079 , 0.46596244],\n",
       "       [0.10016648, 0.43242365, 0.46740988],\n",
       "       [0.23332556, 0.32504663, 0.44162786],\n",
       "       [0.7224256 , 0.08579691, 0.19177754],\n",
       "       [0.08865704, 0.44487885, 0.46646407],\n",
       "       [0.04588067, 0.5034699 , 0.45064944],\n",
       "       [0.06818338, 0.4698076 , 0.46200898],\n",
       "       [0.84237313, 0.04319789, 0.11442891],\n",
       "       [0.15322126, 0.38372752, 0.4630512 ],\n",
       "       [0.07135025, 0.46566382, 0.46298593],\n",
       "       [0.14717425, 0.3887448 , 0.464081  ],\n",
       "       [0.03955408, 0.51508534, 0.4453606 ],\n",
       "       [0.32827353, 0.2671195 , 0.40460694],\n",
       "       [0.7224256 , 0.08579691, 0.19177754],\n",
       "       [0.84237313, 0.04319789, 0.11442891],\n",
       "       [0.84237313, 0.04319789, 0.11442891],\n",
       "       [0.07833564, 0.45692712, 0.4647372 ],\n",
       "       [0.84237313, 0.04319789, 0.11442891],\n",
       "       [0.42933106, 0.21346636, 0.3572026 ],\n",
       "       [0.18672425, 0.35764915, 0.45562667],\n",
       "       [0.817313  , 0.05160961, 0.13107745],\n",
       "       [0.7936396 , 0.05980391, 0.14655653],\n",
       "       [0.08335692, 0.4509491 , 0.46569392],\n",
       "       [0.27860755, 0.2962699 , 0.42512262],\n",
       "       [0.84237313, 0.04319789, 0.11442891],\n",
       "       [0.28472865, 0.29255423, 0.42271712],\n",
       "       [0.15939999, 0.37870923, 0.46189082],\n",
       "       [0.09918309, 0.4334528 , 0.46736404],\n",
       "       [0.50011295, 0.17931908, 0.32056794],\n",
       "       [0.84237313, 0.04319789, 0.11442891],\n",
       "       [0.19300948, 0.35303304, 0.4539575 ],\n",
       "       [0.84237313, 0.04319789, 0.11442891],\n",
       "       [0.12288164, 0.4101296 , 0.4669887 ],\n",
       "       [0.48600507, 0.18593276, 0.32806215],\n",
       "       [0.03247186, 0.5298358 , 0.43769228],\n",
       "       [0.17380865, 0.36738974, 0.45880163],\n",
       "       [0.21115811, 0.3401106 , 0.4487313 ],\n",
       "       [0.84237313, 0.04319789, 0.11442891],\n",
       "       [0.84237313, 0.04319789, 0.11442891],\n",
       "       [0.09092905, 0.44234532, 0.46672568],\n",
       "       [0.22215326, 0.3325474 , 0.44529936],\n",
       "       [0.22298624, 0.33198184, 0.44503182],\n",
       "       [0.18065305, 0.36218357, 0.4571634 ],\n",
       "       [0.25374874, 0.3117678 , 0.43448353],\n",
       "       [0.11001494, 0.4224303 , 0.46755478],\n",
       "       [0.15322126, 0.38372752, 0.4630512 ],\n",
       "       [0.10518082, 0.4272664 , 0.4675528 ],\n",
       "       [0.06000981, 0.48112506, 0.4588651 ],\n",
       "       [0.21970165, 0.3342176 , 0.44608074],\n",
       "       [0.09109049, 0.44216692, 0.4667426 ],\n",
       "       [0.84237313, 0.04319789, 0.11442891],\n",
       "       [0.07347481, 0.46295032, 0.46357483],\n",
       "       [0.14443907, 0.3910506 , 0.46451035],\n",
       "       [0.12106794, 0.41181728, 0.46711478],\n",
       "       [0.11001494, 0.4224303 , 0.46755478],\n",
       "       [0.84237313, 0.04319789, 0.11442891],\n",
       "       [0.05898409, 0.48261693, 0.45839903],\n",
       "       [0.04751087, 0.5006653 , 0.45182383],\n",
       "       [0.84237313, 0.04319789, 0.11442891],\n",
       "       [0.22711147, 0.32919654, 0.443692  ],\n",
       "       [0.817313  , 0.05160961, 0.13107745],\n",
       "       [0.04912873, 0.49794835, 0.45292297],\n",
       "       [0.84237313, 0.04319789, 0.11442891],\n",
       "       [0.01574505, 0.57862806, 0.40562692],\n",
       "       [0.15580475, 0.3816164 , 0.46257883],\n",
       "       [0.84237313, 0.04319789, 0.11442891],\n",
       "       [0.02629763, 0.54483587, 0.4288665 ],\n",
       "       [0.26927993, 0.3020059 , 0.42871422],\n",
       "       [0.84237313, 0.04319789, 0.11442891],\n",
       "       [0.14696473, 0.3889206 , 0.46411467],\n",
       "       [0.15737745, 0.38034034, 0.46228215],\n",
       "       [0.05721197, 0.48523626, 0.45755178],\n",
       "       [0.6836322 , 0.10076261, 0.21560523],\n",
       "       [0.84237313, 0.04319789, 0.11442891],\n",
       "       [0.12764293, 0.40576485, 0.46659222],\n",
       "       [0.07354125, 0.46286637, 0.4635924 ],\n",
       "       [0.37776947, 0.24002044, 0.3822101 ],\n",
       "       [0.48711666, 0.1854083 , 0.32747495],\n",
       "       [0.04588067, 0.5034699 , 0.45064944],\n",
       "       [0.0411829 , 0.51197326, 0.44684386],\n",
       "       [0.7936396 , 0.05980391, 0.14655653],\n",
       "       [0.21602586, 0.33673903, 0.44723514],\n",
       "       [0.084327  , 0.44982052, 0.46585247],\n",
       "       [0.19300948, 0.35303304, 0.4539575 ],\n",
       "       [0.21916418, 0.33458504, 0.4462508 ],\n",
       "       [0.16651478, 0.37305596, 0.46042922],\n",
       "       [0.34547156, 0.25750485, 0.3970236 ],\n",
       "       [0.12288164, 0.4101296 , 0.4669887 ],\n",
       "       [0.22882332, 0.32804793, 0.44312873],\n",
       "       [0.29525363, 0.28625104, 0.41849536],\n",
       "       [0.13817869, 0.39641902, 0.46540233],\n",
       "       [0.06214987, 0.47806704, 0.45978305],\n",
       "       [0.34634537, 0.25702223, 0.3966324 ],\n",
       "       [0.08115949, 0.45353636, 0.46530408],\n",
       "       [0.06317712, 0.47662425, 0.46019855],\n",
       "       [0.10518082, 0.4272664 , 0.4675528 ],\n",
       "       [0.06270546, 0.4772849 , 0.4600096 ],\n",
       "       [0.08876202, 0.44476086, 0.46647713],\n",
       "       [0.13022771, 0.40343356, 0.46633872],\n",
       "       [0.03068179, 0.53394204, 0.4353762 ],\n",
       "       [0.24286132, 0.3187804 , 0.43835837],\n",
       "       [0.39376652, 0.23161355, 0.37461993],\n",
       "       [0.0153857 , 0.58007264, 0.4045416 ],\n",
       "       [0.10140613, 0.43113455, 0.46745932],\n",
       "       [0.10456965, 0.42788717, 0.46754315],\n",
       "       [0.39376652, 0.23161355, 0.37461993],\n",
       "       [0.05313757, 0.49147624, 0.4553862 ],\n",
       "       [0.0795459 , 0.45546454, 0.46498957],\n",
       "       [0.18357737, 0.35999   , 0.4564326 ],\n",
       "       [0.84237313, 0.04319789, 0.11442891],\n",
       "       [0.84237313, 0.04319789, 0.11442891],\n",
       "       [0.25528258, 0.31079134, 0.43392605],\n",
       "       [0.09749322, 0.4352359 , 0.4672709 ],\n",
       "       [0.19365555, 0.35256287, 0.45378157],\n",
       "       [0.09915395, 0.43348336, 0.46736264],\n",
       "       [0.2759724 , 0.2978811 , 0.42614648],\n",
       "       [0.09201984, 0.44114292, 0.46683714],\n",
       "       [0.04965987, 0.49706995, 0.45327023],\n",
       "       [0.14071514, 0.3942282 , 0.4650567 ],\n",
       "       [0.04890034, 0.49832797, 0.45277163],\n",
       "       [0.05350046, 0.4909074 , 0.45559216],\n",
       "       [0.03472742, 0.524898  , 0.4403746 ],\n",
       "       [0.84237313, 0.04319789, 0.11442891],\n",
       "       [0.277228  , 0.2971125 , 0.42565954],\n",
       "       [0.21632127, 0.3365355 , 0.44714323],\n",
       "       [0.22906922, 0.32788333, 0.4430475 ],\n",
       "       [0.16937202, 0.37082127, 0.4598067 ],\n",
       "       [0.44311237, 0.20662181, 0.35026583],\n",
       "       [0.10140613, 0.43113455, 0.46745932],\n",
       "       [0.02629763, 0.54483587, 0.4288665 ],\n",
       "       [0.09089955, 0.44237807, 0.4667224 ],\n",
       "       [0.28877968, 0.29011557, 0.4211048 ],\n",
       "       [0.10611221, 0.42632473, 0.46756303],\n",
       "       [0.36311337, 0.24786642, 0.38902017],\n",
       "       [0.03485224, 0.5246319 , 0.44051588],\n",
       "       [0.12288164, 0.4101296 , 0.4669887 ],\n",
       "       [0.14696473, 0.3889206 , 0.46411467],\n",
       "       [0.07428519, 0.4619289 , 0.46378592],\n",
       "       [0.12529562, 0.407905  , 0.46679944],\n",
       "       [0.84237313, 0.04319789, 0.11442891],\n",
       "       [0.16533414, 0.37398508, 0.46068078],\n",
       "       [0.84237313, 0.04319789, 0.11442891],\n",
       "       [0.78559893, 0.06263953, 0.15176155],\n",
       "       [0.21492453, 0.33749846, 0.44757694],\n",
       "       [0.086036  , 0.44785163, 0.46611235],\n",
       "       [0.07430362, 0.4619056 , 0.46379083],\n",
       "       [0.11309254, 0.41941583, 0.4674917 ],\n",
       "       [0.11448556, 0.41806686, 0.46744755],\n",
       "       [0.23326357, 0.3250877 , 0.44164872],\n",
       "       [0.04588067, 0.5034699 , 0.45064944],\n",
       "       [0.25528258, 0.31079134, 0.43392605],\n",
       "       [0.12529562, 0.407905  , 0.46679944],\n",
       "       [0.14469466, 0.3908341 , 0.4644713 ],\n",
       "       [0.21071097, 0.3404222 , 0.44886687],\n",
       "       [0.03093756, 0.53334445, 0.43571794],\n",
       "       [0.10412657, 0.42833853, 0.46753493],\n",
       "       [0.05638175, 0.48648235, 0.45713583]], dtype=float32)"
      ]
     },
     "execution_count": 927,
     "metadata": {},
     "output_type": "execute_result"
    }
   ],
   "source": [
    "predictions"
   ]
  },
  {
   "cell_type": "code",
   "execution_count": 928,
   "id": "cdde2869",
   "metadata": {},
   "outputs": [
    {
     "data": {
      "text/plain": [
       "array([0.48600507, 0.18593276, 0.32806215], dtype=float32)"
      ]
     },
     "execution_count": 928,
     "metadata": {},
     "output_type": "execute_result"
    }
   ],
   "source": [
    "predictions[40]"
   ]
  },
  {
   "cell_type": "code",
   "execution_count": 929,
   "id": "a2f23622",
   "metadata": {},
   "outputs": [
    {
     "data": {
      "text/plain": [
       "array([1., 0., 0.], dtype=float32)"
      ]
     },
     "execution_count": 929,
     "metadata": {},
     "output_type": "execute_result"
    }
   ],
   "source": [
    "y_test[40]"
   ]
  },
  {
   "cell_type": "code",
   "execution_count": 930,
   "id": "37364a3d",
   "metadata": {},
   "outputs": [
    {
     "data": {
      "text/plain": [
       "0"
      ]
     },
     "execution_count": 930,
     "metadata": {},
     "output_type": "execute_result"
    }
   ],
   "source": [
    "#np.argmax - to returns the indices of the max element in the array \n",
    "np.argmax(predictions[40])"
   ]
  },
  {
   "cell_type": "markdown",
   "id": "28e5470a",
   "metadata": {},
   "source": [
    "# Notes: \n",
    "\n",
    "1) [1 0 0] - Class high risk<br><br> \n",
    "2) [0 1 0] - Class low risk<br><br>\n",
    "3) [0 0 1] - Class mid risk"
   ]
  },
  {
   "cell_type": "code",
   "execution_count": 931,
   "id": "2cab459a",
   "metadata": {},
   "outputs": [],
   "source": [
    "#to verify the predictions according to the labels\n",
    "def verify_predictions(i, predictions_array, y_test):\n",
    "    predicted_labels = np.argmax(predictions_array)\n",
    "    true_labels = y_test[i]\n",
    "    \n",
    "    #change one-hot encoding to integer\n",
    "    inverted_labels = np.argmax(true_labels)\n",
    "    \n",
    "    if predicted_labels == inverted_labels:\n",
    "        if predicted_labels == 0:\n",
    "            print(\"High Risk\")\n",
    "        elif predicted_labels == 1:\n",
    "            print(\"Mid Risk\")\n",
    "        elif predicted_labels == 2:\n",
    "            print(\"Low Risk\")\n",
    "    else:\n",
    "        print(\"Wrong predictions!\")\n"
   ]
  },
  {
   "cell_type": "code",
   "execution_count": 932,
   "id": "1791217f",
   "metadata": {},
   "outputs": [
    {
     "name": "stdout",
     "output_type": "stream",
     "text": [
      "High Risk\n"
     ]
    }
   ],
   "source": [
    "i = 40\n",
    "verify_predictions(i, predictions[i], y_test)"
   ]
  },
  {
   "cell_type": "code",
   "execution_count": null,
   "id": "ad9af71b",
   "metadata": {},
   "outputs": [],
   "source": []
  }
 ],
 "metadata": {
  "kernelspec": {
   "display_name": "Python 3.7 (ISP560)",
   "language": "python",
   "name": "isp560"
  },
  "language_info": {
   "codemirror_mode": {
    "name": "ipython",
    "version": 3
   },
   "file_extension": ".py",
   "mimetype": "text/x-python",
   "name": "python",
   "nbconvert_exporter": "python",
   "pygments_lexer": "ipython3",
   "version": "3.7.11"
  }
 },
 "nbformat": 4,
 "nbformat_minor": 5
}
